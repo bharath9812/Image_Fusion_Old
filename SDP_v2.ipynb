{
 "cells": [
  {
   "cell_type": "code",
   "execution_count": 7,
   "id": "37f263ab",
   "metadata": {},
   "outputs": [
    {
     "name": "stdout",
     "output_type": "stream",
     "text": [
      "TensorFlow has access to the following devices:\n",
      "[PhysicalDevice(name='/physical_device:CPU:0', device_type='CPU')]\n",
      "TensorFlow version: 2.16.1\n"
     ]
    }
   ],
   "source": [
    "# Check for TensorFlow GPU access\n",
    "print(f\"TensorFlow has access to the following devices:\\n{tf.config.list_physical_devices()}\")\n",
    "\n",
    "# See TensorFlow version\n",
    "print(f\"TensorFlow version: {tf.__version__}\")"
   ]
  },
  {
   "cell_type": "code",
   "execution_count": 2,
   "id": "13a96394",
   "metadata": {},
   "outputs": [
    {
     "name": "stdout",
     "output_type": "stream",
     "text": [
      "CT images shape: (285, 256, 256)\n",
      "MRI images shape: (285, 256, 256)\n"
     ]
    }
   ],
   "source": [
    "import numpy as np\n",
    "\n",
    "# Load the paired dataset from the .npy file\n",
    "paired_dataset = np.load('/Volumes/Personal/SDP/Brain tumor MRI and CT scan/data(processed)/train_input.npy')\n",
    "\n",
    "\n",
    "# Separate CT and MRI images\n",
    "num_images = paired_dataset.shape[0]\n",
    "num_ct_images = num_images // 2\n",
    "\n",
    "ct_images = paired_dataset[:num_ct_images]\n",
    "mri_images = paired_dataset[num_ct_images:]\n",
    "\n",
    "# Check the shapes of the loaded data\n",
    "print(\"CT images shape:\", ct_images.shape)\n",
    "print(\"MRI images shape:\", mri_images.shape)\n",
    "INFO:root:Resized image shape: (224, 224, 3) for /Users/chintubharath/Documents/sdp/medical1.png\n",
    "INFO:root:Resized image shape: (224, 224, 3) for /Users/chintubharath/Documents/sdp/medical1.png\n",
    "INFO:root:Original image shape: (224, 224, 3)\n",
    "INFO:root:Post conversion image shape: (224, 224, 3)"
   ]
  },
  {
   "cell_type": "code",
   "execution_count": 3,
   "id": "663d81ec",
   "metadata": {},
   "outputs": [
    {
     "ename": "FileNotFoundError",
     "evalue": "[Errno 2] No such file or directory: 'D:/SDP/IF Paired/data/test_input.npy'",
     "output_type": "error",
     "traceback": [
      "\u001b[0;31m---------------------------------------------------------------------------\u001b[0m",
      "\u001b[0;31mFileNotFoundError\u001b[0m                         Traceback (most recent call last)",
      "Cell \u001b[0;32mIn[3], line 1\u001b[0m\n\u001b[0;32m----> 1\u001b[0m test_data \u001b[38;5;241m=\u001b[39m \u001b[43mnp\u001b[49m\u001b[38;5;241;43m.\u001b[39;49m\u001b[43mload\u001b[49m\u001b[43m(\u001b[49m\u001b[38;5;124;43m'\u001b[39;49m\u001b[38;5;124;43mD:/SDP/IF Paired/data/test_input.npy\u001b[39;49m\u001b[38;5;124;43m'\u001b[39;49m\u001b[43m)\u001b[49m\n\u001b[1;32m      2\u001b[0m val_data \u001b[38;5;241m=\u001b[39m np\u001b[38;5;241m.\u001b[39mload(\u001b[38;5;124m'\u001b[39m\u001b[38;5;124mD:/SDP/IF Paired/data/val_input.npy\u001b[39m\u001b[38;5;124m'\u001b[39m)\n\u001b[1;32m      4\u001b[0m \u001b[38;5;66;03m# Separate CT and MRI images from test dataset\u001b[39;00m\n",
      "File \u001b[0;32m~/Library/Python/3.9/lib/python/site-packages/numpy/lib/npyio.py:427\u001b[0m, in \u001b[0;36mload\u001b[0;34m(file, mmap_mode, allow_pickle, fix_imports, encoding, max_header_size)\u001b[0m\n\u001b[1;32m    425\u001b[0m     own_fid \u001b[38;5;241m=\u001b[39m \u001b[38;5;28;01mFalse\u001b[39;00m\n\u001b[1;32m    426\u001b[0m \u001b[38;5;28;01melse\u001b[39;00m:\n\u001b[0;32m--> 427\u001b[0m     fid \u001b[38;5;241m=\u001b[39m stack\u001b[38;5;241m.\u001b[39menter_context(\u001b[38;5;28;43mopen\u001b[39;49m\u001b[43m(\u001b[49m\u001b[43mos_fspath\u001b[49m\u001b[43m(\u001b[49m\u001b[43mfile\u001b[49m\u001b[43m)\u001b[49m\u001b[43m,\u001b[49m\u001b[43m \u001b[49m\u001b[38;5;124;43m\"\u001b[39;49m\u001b[38;5;124;43mrb\u001b[39;49m\u001b[38;5;124;43m\"\u001b[39;49m\u001b[43m)\u001b[49m)\n\u001b[1;32m    428\u001b[0m     own_fid \u001b[38;5;241m=\u001b[39m \u001b[38;5;28;01mTrue\u001b[39;00m\n\u001b[1;32m    430\u001b[0m \u001b[38;5;66;03m# Code to distinguish from NumPy binary files and pickles.\u001b[39;00m\n",
      "\u001b[0;31mFileNotFoundError\u001b[0m: [Errno 2] No such file or directory: 'D:/SDP/IF Paired/data/test_input.npy'"
     ]
    }
   ],
   "source": [
    "test_data = np.load('D:/SDP/IF Paired/data/test_input.npy')\n",
    "val_data = np.load('D:/SDP/IF Paired/data/val_input.npy')\n",
    "\n",
    "# Separate CT and MRI images from test dataset\n",
    "half_length_test = test_data.shape[0] // 2\n",
    "test_ct_images = test_data[:half_length_test]\n",
    "test_mri_images = test_data[half_length_test:]\n",
    "\n",
    "# Separate CT and MRI images from validation dataset\n",
    "half_length_val = val_data.shape[0] // 2\n",
    "val_ct_images = val_data[:half_length_val]\n",
    "val_mri_images = val_data[half_length_val:]"
   ]
  },
  {
   "cell_type": "code",
   "execution_count": 3,
   "id": "52e3b0c3",
   "metadata": {},
   "outputs": [
    {
     "name": "stdout",
     "output_type": "stream",
     "text": [
      "Downloading data from https://storage.googleapis.com/tensorflow/keras-applications/vgg19/vgg19_weights_tf_dim_ordering_tf_kernels_notop.h5\n",
      "\u001b[1m80134624/80134624\u001b[0m \u001b[32m━━━━━━━━━━━━━━━━━━━━\u001b[0m\u001b[37m\u001b[0m \u001b[1m9s\u001b[0m 0us/step\n",
      "Epoch 1/10\n",
      "\u001b[1m18/18\u001b[0m \u001b[32m━━━━━━━━━━━━━━━━━━━━\u001b[0m\u001b[37m\u001b[0m \u001b[1m154s\u001b[0m 8s/step - loss: 0.0010 - val_loss: 9.6814e-04\n",
      "Epoch 2/10\n",
      "\u001b[1m18/18\u001b[0m \u001b[32m━━━━━━━━━━━━━━━━━━━━\u001b[0m\u001b[37m\u001b[0m \u001b[1m154s\u001b[0m 9s/step - loss: 9.2394e-04 - val_loss: 7.6777e-04\n",
      "Epoch 3/10\n",
      "\u001b[1m18/18\u001b[0m \u001b[32m━━━━━━━━━━━━━━━━━━━━\u001b[0m\u001b[37m\u001b[0m \u001b[1m155s\u001b[0m 9s/step - loss: 7.1563e-04 - val_loss: 5.2470e-04\n",
      "Epoch 4/10\n",
      "\u001b[1m18/18\u001b[0m \u001b[32m━━━━━━━━━━━━━━━━━━━━\u001b[0m\u001b[37m\u001b[0m \u001b[1m154s\u001b[0m 9s/step - loss: 4.5858e-04 - val_loss: 3.0716e-04\n",
      "Epoch 5/10\n",
      "\u001b[1m18/18\u001b[0m \u001b[32m━━━━━━━━━━━━━━━━━━━━\u001b[0m\u001b[37m\u001b[0m \u001b[1m155s\u001b[0m 9s/step - loss: 2.4996e-04 - val_loss: 9.5884e-05\n",
      "Epoch 6/10\n",
      "\u001b[1m18/18\u001b[0m \u001b[32m━━━━━━━━━━━━━━━━━━━━\u001b[0m\u001b[37m\u001b[0m \u001b[1m154s\u001b[0m 9s/step - loss: 6.4816e-05 - val_loss: 1.1271e-05\n",
      "Epoch 7/10\n",
      "\u001b[1m18/18\u001b[0m \u001b[32m━━━━━━━━━━━━━━━━━━━━\u001b[0m\u001b[37m\u001b[0m \u001b[1m155s\u001b[0m 9s/step - loss: 7.9232e-06 - val_loss: 3.0143e-06\n",
      "Epoch 8/10\n",
      "\u001b[1m18/18\u001b[0m \u001b[32m━━━━━━━━━━━━━━━━━━━━\u001b[0m\u001b[37m\u001b[0m \u001b[1m154s\u001b[0m 9s/step - loss: 2.5675e-06 - val_loss: 1.6857e-06\n",
      "Epoch 9/10\n",
      "\u001b[1m18/18\u001b[0m \u001b[32m━━━━━━━━━━━━━━━━━━━━\u001b[0m\u001b[37m\u001b[0m \u001b[1m160s\u001b[0m 9s/step - loss: 1.5473e-06 - val_loss: 1.2161e-06\n",
      "Epoch 10/10\n",
      "\u001b[1m18/18\u001b[0m \u001b[32m━━━━━━━━━━━━━━━━━━━━\u001b[0m\u001b[37m\u001b[0m \u001b[1m165s\u001b[0m 9s/step - loss: 1.1438e-06 - val_loss: 9.5308e-07\n",
      "\u001b[1m3/3\u001b[0m \u001b[32m━━━━━━━━━━━━━━━━━━━━\u001b[0m\u001b[37m\u001b[0m \u001b[1m19s\u001b[0m 6s/step - loss: 9.5382e-07\n",
      "Test Loss: 9.536518632558e-07\n"
     ]
    }
   ],
   "source": [
    "import numpy as np\n",
    "import tensorflow as tf\n",
    "from tensorflow.keras.models import Model\n",
    "from tensorflow.keras.layers import Input, Conv2D, Concatenate\n",
    "from tensorflow.keras.optimizers import Adam\n",
    "import tensorflow.keras.backend as K\n",
    "from tensorflow.keras.applications import VGG19\n",
    "\n",
    "# Assuming ct_images and mri_images are your training data\n",
    "# Assuming test_ct_images, test_mri_images are your test data\n",
    "# Assuming val_ct_images, val_mri_images are your validation data\n",
    "\n",
    "# 1. Preprocess the data\n",
    "ct_images = ct_images / 255.0\n",
    "mri_images = mri_images / 255.0\n",
    "test_ct_images = test_ct_images / 255.0\n",
    "test_mri_images = test_mri_images / 255.0\n",
    "val_ct_images = val_ct_images / 255.0\n",
    "val_mri_images = val_mri_images / 255.0\n",
    "\n",
    "# 2. Design the model architecture\n",
    "def fusion_model():\n",
    "    inputs_ct = Input(shape=(256, 256, 1))\n",
    "    inputs_mri = Input(shape=(256, 256, 1))\n",
    "    \n",
    "    # Convolutional layers for CT image\n",
    "    conv_ct = Conv2D(64, (3, 3), activation='relu', padding='same')(inputs_ct)\n",
    "    conv_ct = Conv2D(64, (3, 3), activation='relu', padding='same')(conv_ct)\n",
    "    \n",
    "    # Convolutional layers for MRI image\n",
    "    conv_mri = Conv2D(64, (3, 3), activation='relu', padding='same')(inputs_mri)\n",
    "    conv_mri = Conv2D(64, (3, 3), activation='relu', padding='same')(conv_mri)\n",
    "    \n",
    "    # Concatenate features\n",
    "    concat = Concatenate()([conv_ct, conv_mri])\n",
    "    \n",
    "    # Fusion layer\n",
    "    fusion = Conv2D(1, (3, 3), activation='sigmoid', padding='same')(concat)\n",
    "    \n",
    "    model = Model(inputs=[inputs_ct, inputs_mri], outputs=fusion)\n",
    "    return model\n",
    "\n",
    "# Define VGG19 model outside of tf.function\n",
    "vgg = VGG19(include_top=False, weights='imagenet', input_shape=(256, 256, 3))\n",
    "vgg.trainable = False\n",
    "for layer in vgg.layers:\n",
    "    layer.trainable = False\n",
    "model_vgg = Model(inputs=vgg.input, outputs=vgg.get_layer('block5_conv4').output)\n",
    "model_vgg.trainable = False\n",
    "\n",
    "@tf.function\n",
    "def perceptual_loss(y_true, y_pred):\n",
    "    # Expand dimensions of grayscale images to match VGG input shape\n",
    "    y_true_rgb = K.repeat_elements(K.expand_dims(y_true, axis=-1), 3, axis=-1)\n",
    "    y_pred_rgb = K.repeat_elements(K.expand_dims(y_pred, axis=-1), 3, axis=-1)\n",
    "    \n",
    "    true_features = model_vgg(y_true_rgb)\n",
    "    pred_features = model_vgg(y_pred_rgb)\n",
    "    \n",
    "    return K.mean(K.square(true_features - pred_features))\n",
    "\n",
    "model = fusion_model()\n",
    "model.compile(optimizer=Adam(), loss=perceptual_loss)\n",
    "\n",
    "# 3. Train the model\n",
    "model.fit([ct_images, mri_images], np.zeros_like(ct_images), epochs=10, batch_size=16, validation_data=([val_ct_images, val_mri_images], np.zeros_like(val_ct_images)))\n",
    "\n",
    "# 4. Evaluate the model\n",
    "test_loss = model.evaluate([test_ct_images, test_mri_images], np.zeros_like(test_ct_images))\n",
    "\n",
    "print(\"Test Loss:\", test_loss)\n"
   ]
  },
  {
   "cell_type": "code",
   "execution_count": 5,
   "id": "177a7ba2",
   "metadata": {},
   "outputs": [],
   "source": [
    "# After training the model\n",
    "model.save(\"fusion_model.keras\")"
   ]
  },
  {
   "cell_type": "code",
   "execution_count": null,
   "id": "0b97f7f7-e843-4ae7-b2cf-2b5a757d3c3b",
   "metadata": {},
   "outputs": [],
   "source": []
  },
  {
   "cell_type": "code",
   "execution_count": null,
   "id": "3e3ccb53-3069-4d3a-9d7a-b90618577550",
   "metadata": {},
   "outputs": [],
   "source": []
  },
  {
   "cell_type": "code",
   "execution_count": null,
   "id": "1d099b7d-e0da-421c-a8f3-4765862e2e60",
   "metadata": {},
   "outputs": [],
   "source": []
  },
  {
   "cell_type": "code",
   "execution_count": null,
   "id": "762827b2-dd43-4679-b098-8d05111227d4",
   "metadata": {},
   "outputs": [],
   "source": []
  },
  {
   "cell_type": "code",
   "execution_count": 5,
   "id": "2bb67542-c00f-45a7-bcd6-a4104016d0da",
   "metadata": {},
   "outputs": [
    {
     "name": "stdout",
     "output_type": "stream",
     "text": [
      "\u001b[1m1/1\u001b[0m \u001b[32m━━━━━━━━━━━━━━━━━━━━\u001b[0m\u001b[37m\u001b[0m \u001b[1m0s\u001b[0m 96ms/step\n"
     ]
    },
    {
     "data": {
      "image/png": "[encoded data removed]",
      "text/plain": [
       "<Figure size 640x480 with 3 Axes>"
      ]
     },
     "metadata": {},
     "output_type": "display_data"
    }
   ],
   "source": [
    "import numpy as np\n",
    "import tensorflow as tf\n",
    "from tensorflow.keras.models import load_model\n",
    "from tensorflow.keras.preprocessing import image\n",
    "\n",
    "# Load the saved model\n",
    "model = load_model(\"fusion_model.keras\", compile=False)\n",
    "\n",
    "def preprocess_image(img_path):\n",
    "    # Load the image\n",
    "    img = image.load_img(img_path, color_mode=\"grayscale\", target_size=(256, 256))\n",
    "    # Convert the image to array\n",
    "    img_array = image.img_to_array(img)\n",
    "    # Expand dimensions to match model input shape\n",
    "    img_array = np.expand_dims(img_array, axis=0)\n",
    "    # Normalize the image\n",
    "    img_array = img_array / 255.0\n",
    "    return img_array\n",
    "\n",
    "def predict_fused_image(ct_img_path, mri_img_path):\n",
    "    # Preprocess the CT and MRI images\n",
    "    ct_img = preprocess_image(ct_img_path)\n",
    "    mri_img = preprocess_image(mri_img_path)\n",
    "    # Predict the fused image\n",
    "    fused_img = model.predict([ct_img, mri_img])\n",
    "    # Denormalize the image\n",
    "    fused_img = fused_img * 255.0\n",
    "    # Convert to uint8\n",
    "    fused_img = np.uint8(fused_img[0])\n",
    "    return fused_img\n",
    "\n",
    "# Paths to CT and MRI images\n",
    "\n",
    "\n",
    "ct_image_path = \"/Users/chintubharath/Documents/sdp/Imfusion-main/demo/medical1.png\"\n",
    "mri_image_path = \"/Users/chintubharath/Documents/sdp/Imfusion-main/demo/medical2.png\"\n",
    "\n",
    "# Predict the fused image\n",
    "fused_image = predict_fused_image(ct_image_path, mri_image_path)\n",
    "\n",
    "# Display the images\n",
    "import matplotlib.pyplot as plt\n",
    "\n",
    "# Load and display CT image\n",
    "ct_image = image.load_img(ct_image_path, color_mode=\"grayscale\", target_size=(256, 256))\n",
    "plt.subplot(1, 3, 1)\n",
    "plt.imshow(ct_image, cmap='gray')\n",
    "plt.title(\"CT scan\")\n",
    "plt.axis('off')\n",
    "\n",
    "# Load and display MRI image\n",
    "mri_image = image.load_img(mri_image_path, color_mode=\"grayscale\", target_size=(256, 256))\n",
    "plt.subplot(1, 3, 2)\n",
    "plt.imshow(mri_image, cmap='gray')\n",
    "plt.title(\"MRI scan\")\n",
    "plt.axis('off')\n",
    "\n",
    "# Display the fused image\n",
    "plt.subplot(1, 3, 3)\n",
    "plt.imshow(fused_image, cmap='gray')\n",
    "plt.title(\"Fused image\")\n",
    "plt.axis('off')\n",
    "\n",
    "plt.tight_layout()\n",
    "plt.show()\n"
   ]
  },
  {
   "cell_type": "code",
   "execution_count": null,
   "id": "496f090f",
   "metadata": {},
   "outputs": [],
   "source": []
  },
  {
   "cell_type": "code",
   "execution_count": null,
   "id": "ffead0ed",
   "metadata": {},
   "outputs": [],
   "source": []
  },
  {
   "cell_type": "code",
   "execution_count": null,
   "id": "793d7672",
   "metadata": {},
   "outputs": [],
   "source": []
  },
  {
   "cell_type": "code",
   "execution_count": null,
   "id": "79397581",
   "metadata": {},
   "outputs": [],
   "source": []
  },
  {
   "cell_type": "code",
   "execution_count": 1,
   "id": "2139eb99",
   "metadata": {},
   "outputs": [
    {
     "name": "stderr",
     "output_type": "stream",
     "text": [
      "/Users/chintubharath/Library/Python/3.9/lib/python/site-packages/urllib3/__init__.py:35: NotOpenSSLWarning: urllib3 v2 only supports OpenSSL 1.1.1+, currently the 'ssl' module is compiled with 'LibreSSL 2.8.3'. See: https://github.com/urllib3/urllib3/issues/3020\n",
      "  warnings.warn(\n"
     ]
    },
    {
     "ename": "ValueError",
     "evalue": "Layer 'functional_1' expected 1 input(s). Received 2 instead.",
     "output_type": "error",
     "traceback": [
      "\u001b[0;31m---------------------------------------------------------------------------\u001b[0m",
      "\u001b[0;31mValueError\u001b[0m                                Traceback (most recent call last)",
      "Cell \u001b[0;32mIn[1], line 38\u001b[0m\n\u001b[1;32m     35\u001b[0m mri_image_path \u001b[38;5;241m=\u001b[39m \u001b[38;5;124m\"\u001b[39m\u001b[38;5;124m/Users/chintubharath/Documents/sdp/Imfusion-main/demo/medical2.png\u001b[39m\u001b[38;5;124m\"\u001b[39m\n\u001b[1;32m     37\u001b[0m \u001b[38;5;66;03m# Predict the fused image\u001b[39;00m\n\u001b[0;32m---> 38\u001b[0m fused_image \u001b[38;5;241m=\u001b[39m \u001b[43mpredict_fused_image\u001b[49m\u001b[43m(\u001b[49m\u001b[43mct_image_path\u001b[49m\u001b[43m,\u001b[49m\u001b[43m \u001b[49m\u001b[43mmri_image_path\u001b[49m\u001b[43m)\u001b[49m\n\u001b[1;32m     40\u001b[0m \u001b[38;5;66;03m# Load and display CT image\u001b[39;00m\n\u001b[1;32m     41\u001b[0m ct_image \u001b[38;5;241m=\u001b[39m image\u001b[38;5;241m.\u001b[39mload_img(ct_image_path, color_mode\u001b[38;5;241m=\u001b[39m\u001b[38;5;124m\"\u001b[39m\u001b[38;5;124mgrayscale\u001b[39m\u001b[38;5;124m\"\u001b[39m, target_size\u001b[38;5;241m=\u001b[39m(\u001b[38;5;241m256\u001b[39m, \u001b[38;5;241m256\u001b[39m))\n",
      "Cell \u001b[0;32mIn[1], line 26\u001b[0m, in \u001b[0;36mpredict_fused_image\u001b[0;34m(ct_img_path, mri_img_path)\u001b[0m\n\u001b[1;32m     24\u001b[0m mri_img \u001b[38;5;241m=\u001b[39m preprocess_image(mri_img_path)\n\u001b[1;32m     25\u001b[0m \u001b[38;5;66;03m# Predict the fused image\u001b[39;00m\n\u001b[0;32m---> 26\u001b[0m fused_img \u001b[38;5;241m=\u001b[39m \u001b[43mmodel\u001b[49m\u001b[38;5;241;43m.\u001b[39;49m\u001b[43mpredict\u001b[49m\u001b[43m(\u001b[49m\u001b[43m[\u001b[49m\u001b[43mct_img\u001b[49m\u001b[43m,\u001b[49m\u001b[43m \u001b[49m\u001b[43mmri_img\u001b[49m\u001b[43m]\u001b[49m\u001b[43m)\u001b[49m\n\u001b[1;32m     27\u001b[0m \u001b[38;5;66;03m# Denormalize the image\u001b[39;00m\n\u001b[1;32m     28\u001b[0m fused_img \u001b[38;5;241m=\u001b[39m fused_img \u001b[38;5;241m*\u001b[39m \u001b[38;5;241m255.0\u001b[39m\n",
      "File \u001b[0;32m~/Library/Python/3.9/lib/python/site-packages/keras/src/utils/traceback_utils.py:123\u001b[0m, in \u001b[0;36mfilter_traceback.<locals>.error_handler\u001b[0;34m(*args, **kwargs)\u001b[0m\n\u001b[1;32m    120\u001b[0m     filtered_tb \u001b[38;5;241m=\u001b[39m _process_traceback_frames(e\u001b[38;5;241m.\u001b[39m__traceback__)\n\u001b[1;32m    121\u001b[0m     \u001b[38;5;66;03m# To get the full stack trace, call:\u001b[39;00m\n\u001b[1;32m    122\u001b[0m     \u001b[38;5;66;03m# `keras.config.disable_traceback_filtering()`\u001b[39;00m\n\u001b[0;32m--> 123\u001b[0m     \u001b[38;5;28;01mraise\u001b[39;00m e\u001b[38;5;241m.\u001b[39mwith_traceback(filtered_tb) \u001b[38;5;28;01mfrom\u001b[39;00m \u001b[38;5;28;01mNone\u001b[39;00m\n\u001b[1;32m    124\u001b[0m \u001b[38;5;28;01mfinally\u001b[39;00m:\n\u001b[1;32m    125\u001b[0m     \u001b[38;5;28;01mdel\u001b[39;00m filtered_tb\n",
      "File \u001b[0;32m~/Library/Python/3.9/lib/python/site-packages/keras/src/layers/input_spec.py:156\u001b[0m, in \u001b[0;36massert_input_compatibility\u001b[0;34m(input_spec, inputs, layer_name)\u001b[0m\n\u001b[1;32m    154\u001b[0m inputs \u001b[38;5;241m=\u001b[39m tree\u001b[38;5;241m.\u001b[39mflatten(inputs)\n\u001b[1;32m    155\u001b[0m \u001b[38;5;28;01mif\u001b[39;00m \u001b[38;5;28mlen\u001b[39m(input_spec) \u001b[38;5;241m!=\u001b[39m \u001b[38;5;28mlen\u001b[39m(inputs):\n\u001b[0;32m--> 156\u001b[0m     \u001b[38;5;28;01mraise\u001b[39;00m \u001b[38;5;167;01mValueError\u001b[39;00m(\n\u001b[1;32m    157\u001b[0m         \u001b[38;5;124mf\u001b[39m\u001b[38;5;124m\"\u001b[39m\u001b[38;5;124mLayer \u001b[39m\u001b[38;5;124m'\u001b[39m\u001b[38;5;132;01m{\u001b[39;00mlayer_name\u001b[38;5;132;01m}\u001b[39;00m\u001b[38;5;124m'\u001b[39m\u001b[38;5;124m expected \u001b[39m\u001b[38;5;132;01m{\u001b[39;00m\u001b[38;5;28mlen\u001b[39m(input_spec)\u001b[38;5;132;01m}\u001b[39;00m\u001b[38;5;124m input(s). \u001b[39m\u001b[38;5;124m\"\u001b[39m\n\u001b[1;32m    158\u001b[0m         \u001b[38;5;124mf\u001b[39m\u001b[38;5;124m\"\u001b[39m\u001b[38;5;124mReceived \u001b[39m\u001b[38;5;132;01m{\u001b[39;00m\u001b[38;5;28mlen\u001b[39m(inputs)\u001b[38;5;132;01m}\u001b[39;00m\u001b[38;5;124m instead.\u001b[39m\u001b[38;5;124m\"\u001b[39m\n\u001b[1;32m    159\u001b[0m     )\n\u001b[1;32m    160\u001b[0m \u001b[38;5;28;01mfor\u001b[39;00m x \u001b[38;5;129;01min\u001b[39;00m inputs:\n\u001b[1;32m    161\u001b[0m     \u001b[38;5;66;03m# Having a shape/dtype is the only commonality of the various\u001b[39;00m\n\u001b[1;32m    162\u001b[0m     \u001b[38;5;66;03m# tensor-like objects that may be passed. The most common kind of\u001b[39;00m\n\u001b[1;32m    163\u001b[0m     \u001b[38;5;66;03m# invalid type we are guarding for is a Layer instance (Functional API),\u001b[39;00m\n\u001b[1;32m    164\u001b[0m     \u001b[38;5;66;03m# which does not have a `shape` attribute.\u001b[39;00m\n\u001b[1;32m    165\u001b[0m     \u001b[38;5;28;01mif\u001b[39;00m \u001b[38;5;129;01mnot\u001b[39;00m \u001b[38;5;28mhasattr\u001b[39m(x, \u001b[38;5;124m\"\u001b[39m\u001b[38;5;124mshape\u001b[39m\u001b[38;5;124m\"\u001b[39m):\n",
      "\u001b[0;31mValueError\u001b[0m: Layer 'functional_1' expected 1 input(s). Received 2 instead."
     ]
    }
   ],
   "source": [
    "import numpy as np\n",
    "import tensorflow as tf\n",
    "from tensorflow.keras.models import load_model\n",
    "from tensorflow.keras.preprocessing import image\n",
    "import matplotlib.pyplot as plt\n",
    "\n",
    "# Load the saved model\n",
    "model = load_model(\"image_fusion_model.keras\", compile=False)\n",
    "\n",
    "def preprocess_image(img_path):\n",
    "    # Load the image\n",
    "    img = image.load_img(img_path, color_mode=\"grayscale\", target_size=(256, 256))\n",
    "    # Convert the image to array\n",
    "    img_array = image.img_to_array(img)\n",
    "    # Expand dimensions to match model input shape\n",
    "    img_array = np.expand_dims(img_array, axis=0)\n",
    "    # Normalize the image\n",
    "    img_array = img_array / 255.0\n",
    "    return img_array\n",
    "\n",
    "def predict_fused_image(ct_img_path, mri_img_path):\n",
    "    # Preprocess the CT and MRI images\n",
    "    ct_img = preprocess_image(ct_img_path)\n",
    "    mri_img = preprocess_image(mri_img_path)\n",
    "    # Predict the fused image\n",
    "    fused_img = model.predict([ct_img, mri_img])\n",
    "    # Denormalize the image\n",
    "    fused_img = fused_img * 255.0\n",
    "    # Convert to uint8\n",
    "    fused_img = np.uint8(fused_img[0])\n",
    "    return fused_img\n",
    "\n",
    "# Paths to CT and MRI images\n",
    "ct_image_path = \"/Users/chintubharath/Documents/sdp/Imfusion-main/demo/medical1.png\"\n",
    "mri_image_path = \"/Users/chintubharath/Documents/sdp/Imfusion-main/demo/medical2.png\"\n",
    "\n",
    "# Predict the fused image\n",
    "fused_image = predict_fused_image(ct_image_path, mri_image_path)\n",
    "\n",
    "# Load and display CT image\n",
    "ct_image = image.load_img(ct_image_path, color_mode=\"grayscale\", target_size=(256, 256))\n",
    "plt.subplot(1, 3, 1)\n",
    "plt.imshow(ct_image, cmap='gray')\n",
    "plt.title(\"CT scan\")\n",
    "plt.axis('off')\n",
    "\n",
    "# Load and display MRI image\n",
    "mri_image = image.load_img(mri_image_path, color_mode=\"grayscale\", target_size=(256, 256))\n",
    "plt.subplot(1, 3, 2)\n",
    "plt.imshow(mri_image, cmap='gray')\n",
    "plt.title(\"MRI scan\")\n",
    "plt.axis('off')\n",
    "\n",
    "# Display the fused image\n",
    "plt.subplot(1, 3, 3)\n",
    "plt.imshow(fused_image, cmap='gray')\n",
    "plt.title(\"Fused image\")\n",
    "plt.axis('off')\n",
    "\n",
    "plt.tight_layout()\n",
    "plt.show()\n"
   ]
  },
  {
   "cell_type": "code",
   "execution_count": null,
   "id": "02713899",
   "metadata": {},
   "outputs": [],
   "source": []
  }
 ],
 "metadata": {
  "kernelspec": {
   "display_name": "Python 3 (ipykernel)",
   "language": "python",
   "name": "python3"
  },
  "language_info": {
   "codemirror_mode": {
    "name": "ipython",
    "version": 3
   },
   "file_extension": ".py",
   "mimetype": "text/x-python",
   "name": "python",
   "nbconvert_exporter": "python",
   "pygments_lexer": "ipython3",
   "version": "3.9.6"
  }
 },
 "nbformat": 4,
 "nbformat_minor": 5
}
