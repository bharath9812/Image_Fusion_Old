{
 "cells": [
  {
   "cell_type": "code",
   "execution_count": 1,
   "metadata": {},
   "outputs": [
    {
     "name": "stdout",
     "output_type": "stream",
     "text": [
      "Defaulting to user installation because normal site-packages is not writeable\n",
      "Collecting scikit-learn\n",
      "  Using cached scikit_learn-1.4.1.post1-cp39-cp39-macosx_12_0_arm64.whl (10.5 MB)\n",
      "Collecting threadpoolctl>=2.0.0\n",
      "  Using cached threadpoolctl-3.3.0-py3-none-any.whl (17 kB)\n",
      "Collecting scipy>=1.6.0\n",
      "  Downloading scipy-1.12.0-cp39-cp39-macosx_12_0_arm64.whl (31.4 MB)\n",
      "\u001b[K     |████████████████████████████████| 31.4 MB 497 kB/s eta 0:00:01\n",
      "\u001b[?25hRequirement already satisfied: numpy<2.0,>=1.19.5 in /Users/chintubharath/Library/Python/3.9/lib/python/site-packages (from scikit-learn) (1.26.4)\n",
      "Collecting joblib>=1.2.0\n",
      "  Using cached joblib-1.3.2-py3-none-any.whl (302 kB)\n",
      "Installing collected packages: threadpoolctl, scipy, joblib, scikit-learn\n",
      "Successfully installed joblib-1.3.2 scikit-learn-1.4.1.post1 scipy-1.12.0 threadpoolctl-3.3.0\n",
      "\u001b[33mWARNING: You are using pip version 21.2.4; however, version 24.0 is available.\n",
      "You should consider upgrading via the '/Library/Developer/CommandLineTools/usr/bin/python3 -m pip install --upgrade pip' command.\u001b[0m\n",
      "Note: you may need to restart the kernel to use updated packages.\n"
     ]
    }
   ],
   "source": [
    "pip install -U scikit-learn"
   ]
  },
  {
   "cell_type": "code",
   "execution_count": 1,
   "metadata": {},
   "outputs": [
    {
     "name": "stdout",
     "output_type": "stream",
     "text": [
      "Defaulting to user installation because normal site-packages is not writeable\n",
      "Requirement already satisfied: keras in /Users/chintubharath/Library/Python/3.9/lib/python/site-packages (3.0.5)\n",
      "Requirement already satisfied: absl-py in /Users/chintubharath/Library/Python/3.9/lib/python/site-packages (from keras) (2.1.0)\n",
      "Requirement already satisfied: dm-tree in /Users/chintubharath/Library/Python/3.9/lib/python/site-packages (from keras) (0.1.8)\n",
      "Requirement already satisfied: rich in /Users/chintubharath/Library/Python/3.9/lib/python/site-packages (from keras) (13.7.1)\n",
      "Requirement already satisfied: namex in /Users/chintubharath/Library/Python/3.9/lib/python/site-packages (from keras) (0.0.7)\n",
      "Requirement already satisfied: ml-dtypes in /Users/chintubharath/Library/Python/3.9/lib/python/site-packages (from keras) (0.3.2)\n",
      "Requirement already satisfied: numpy in /Users/chintubharath/Library/Python/3.9/lib/python/site-packages (from keras) (1.26.4)\n",
      "Requirement already satisfied: h5py in /Users/chintubharath/Library/Python/3.9/lib/python/site-packages (from keras) (3.10.0)\n",
      "Requirement already satisfied: pygments<3.0.0,>=2.13.0 in /Users/chintubharath/Library/Python/3.9/lib/python/site-packages (from rich->keras) (2.17.2)\n",
      "Requirement already satisfied: markdown-it-py>=2.2.0 in /Users/chintubharath/Library/Python/3.9/lib/python/site-packages (from rich->keras) (3.0.0)\n",
      "Requirement already satisfied: mdurl~=0.1 in /Users/chintubharath/Library/Python/3.9/lib/python/site-packages (from markdown-it-py>=2.2.0->rich->keras) (0.1.2)\n",
      "\u001b[33mWARNING: You are using pip version 21.2.4; however, version 24.0 is available.\n",
      "You should consider upgrading via the '/Library/Developer/CommandLineTools/usr/bin/python3 -m pip install --upgrade pip' command.\u001b[0m\n",
      "Note: you may need to restart the kernel to use updated packages.\n"
     ]
    }
   ],
   "source": [
    "pip install keras"
   ]
  },
  {
   "cell_type": "markdown",
   "metadata": {},
   "source": []
  },
  {
   "cell_type": "code",
   "execution_count": 1,
   "metadata": {},
   "outputs": [
    {
     "name": "stdout",
     "output_type": "stream",
     "text": [
      "Defaulting to user installation because normal site-packages is not writeable\n",
      "Collecting scikit-image\n",
      "  Downloading scikit_image-0.22.0-cp39-cp39-macosx_12_0_arm64.whl (13.3 MB)\n",
      "\u001b[K     |████████████████████████████████| 13.3 MB 23 kB/s eta 0:00:01\n",
      "\u001b[?25hCollecting networkx>=2.8\n",
      "  Using cached networkx-3.2.1-py3-none-any.whl (1.6 MB)\n",
      "Collecting lazy_loader>=0.3\n",
      "  Downloading lazy_loader-0.3-py3-none-any.whl (9.1 kB)\n",
      "Requirement already satisfied: numpy>=1.22 in /Users/chintubharath/Library/Python/3.9/lib/python/site-packages (from scikit-image) (1.26.4)\n",
      "Collecting tifffile>=2022.8.12\n",
      "  Downloading tifffile-2024.2.12-py3-none-any.whl (224 kB)\n",
      "\u001b[K     |████████████████████████████████| 224 kB 43 kB/s eta 0:00:01\n",
      "\u001b[?25hRequirement already satisfied: pillow>=9.0.1 in /Users/chintubharath/Library/Python/3.9/lib/python/site-packages (from scikit-image) (10.2.0)\n",
      "Requirement already satisfied: packaging>=21 in /Users/chintubharath/Library/Python/3.9/lib/python/site-packages (from scikit-image) (23.2)\n",
      "Requirement already satisfied: scipy>=1.8 in /Users/chintubharath/Library/Python/3.9/lib/python/site-packages (from scikit-image) (1.12.0)\n",
      "Collecting imageio>=2.27\n",
      "  Downloading imageio-2.34.0-py3-none-any.whl (313 kB)\n",
      "\u001b[K     |████████████████████████████████| 313 kB 47 kB/s eta 0:00:01\n",
      "\u001b[?25hInstalling collected packages: tifffile, networkx, lazy-loader, imageio, scikit-image\n",
      "Successfully installed imageio-2.34.0 lazy-loader-0.3 networkx-3.2.1 scikit-image-0.22.0 tifffile-2024.2.12\n",
      "\u001b[33mWARNING: You are using pip version 21.2.4; however, version 24.0 is available.\n",
      "You should consider upgrading via the '/Library/Developer/CommandLineTools/usr/bin/python3 -m pip install --upgrade pip' command.\u001b[0m\n",
      "Note: you may need to restart the kernel to use updated packages.\n"
     ]
    }
   ],
   "source": [
    "pip install scikit-image"
   ]
  },
  {
   "cell_type": "code",
   "execution_count": null,
   "metadata": {},
   "outputs": [],
   "source": []
  }
 ],
 "metadata": {
  "kernelspec": {
   "display_name": "Python 3",
   "language": "python",
   "name": "python3"
  },
  "language_info": {
   "codemirror_mode": {
    "name": "ipython",
    "version": 3
   },
   "file_extension": ".py",
   "mimetype": "text/x-python",
   "name": "python",
   "nbconvert_exporter": "python",
   "pygments_lexer": "ipython3",
   "version": "3.9.6"
  }
 },
 "nbformat": 4,
 "nbformat_minor": 2
}
