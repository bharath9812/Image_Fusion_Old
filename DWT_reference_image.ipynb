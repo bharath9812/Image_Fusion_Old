{
 "cells": [
  {
   "cell_type": "markdown",
   "metadata": {},
   "source": [
    "Nonlinear Correlation Information Entropy (QNCIE) :  Q < 1 ===>  POOR Image fusion quality"
   ]
  },
  {
   "cell_type": "code",
   "execution_count": 2,
   "metadata": {},
   "outputs": [
    {
     "name": "stdout",
     "output_type": "stream",
     "text": [
      "QNCIE between image A and image B: 4.638776449327568\n",
      "QNCIE between image A and fusion image F: 4.712412866494064\n",
      "QNCIE between image B and fusion image F: 5.696567297462054\n"
     ]
    }
   ],
   "source": [
    "import cv2\n",
    "import numpy as np\n",
    "from skimage.measure import shannon_entropy\n",
    "\n",
    "img1_path = \"/Users/chintubharath/Documents/sdp/Imfusion-main/demo/medical1.png\"\n",
    "img2_path = \"/Users/chintubharath/Documents/sdp/Imfusion-main/demo/medical2.png\"\n",
    "\n",
    "\n",
    "def information_entropy(image):\n",
    "    return shannon_entropy(image)\n",
    "\n",
    "def joint_information_entropy(image1, image2):\n",
    "    joint_image = np.dstack((image1, image2))\n",
    "    return shannon_entropy(joint_image.reshape(-1, joint_image.shape[-1]))\n",
    "\n",
    "def QNCIE(imageA, imageB, imageF):\n",
    "    # Resize images to have the same dimensions\n",
    "    imageA = cv2.resize(imageA, (imageF.shape[1], imageF.shape[0]))\n",
    "    imageB = cv2.resize(imageB, (imageF.shape[1], imageF.shape[0]))\n",
    "    \n",
    "    # Calculate information entropy of each image\n",
    "    entropy_A = information_entropy(imageA)\n",
    "    entropy_B = information_entropy(imageB)\n",
    "    entropy_F = information_entropy(imageF)\n",
    "    \n",
    "    # Calculate joint information entropy\n",
    "    joint_AB = joint_information_entropy(imageA, imageB)\n",
    "    joint_AF = joint_information_entropy(imageA, imageF)\n",
    "    joint_BF = joint_information_entropy(imageB, imageF)\n",
    "    \n",
    "    # Calculate QNCIE\n",
    "    QNCIE_AB = entropy_A + entropy_B - joint_AB\n",
    "    QNCIE_AF = entropy_A + entropy_F - joint_AF\n",
    "    QNCIE_BF = entropy_B + entropy_F - joint_BF\n",
    "    \n",
    "    return QNCIE_AB, QNCIE_AF, QNCIE_BF\n",
    "\n",
    "# Load the images\n",
    "imageA = cv2.imread(img1_path, cv2.IMREAD_GRAYSCALE)\n",
    "imageB = cv2.imread(img2_path, cv2.IMREAD_GRAYSCALE)\n",
    "imageF = cv2.imread('/Users/chintubharath/Documents/sdp/outputs/fusion-1.png', cv2.IMREAD_GRAYSCALE)\n",
    "\n",
    "# Calculate QNCIE\n",
    "QNCIE_AB, QNCIE_AF, QNCIE_BF = QNCIE(imageA, imageB, imageF)\n",
    "\n",
    "print(\"QNCIE between image A and image B:\", QNCIE_AB)\n",
    "print(\"QNCIE between image A and fusion image F:\", QNCIE_AF)\n",
    "print(\"QNCIE between image B and fusion image F:\", QNCIE_BF)\n"
   ]
  },
  {
   "cell_type": "code",
   "execution_count": null,
   "metadata": {},
   "outputs": [],
   "source": []
  },
  {
   "cell_type": "markdown",
   "metadata": {},
   "source": [
    "Mutual Information (MI)"
   ]
  },
  {
   "cell_type": "code",
   "execution_count": 5,
   "metadata": {},
   "outputs": [
    {
     "name": "stdout",
     "output_type": "stream",
     "text": [
      "Mutual Information (MI) between image A and image B: 35.10670639065237\n",
      "Mutual Information (MI) between image A and fused image F: 34.58568445508886\n",
      "Mutual Information (MI) between image B and fused image F: 48.59555380585328\n"
     ]
    },
    {
     "name": "stderr",
     "output_type": "stream",
     "text": [
      "/var/folders/1c/wgg3jchj1vnb_c49fv64srjm0000gn/T/ipykernel_17317/554599845.py:11: RuntimeWarning: Converting input from bool to <class 'numpy.uint8'> for compatibility.\n",
      "  hist, _ = np.histogram(edges, bins=256, range=(0, 1))\n"
     ]
    }
   ],
   "source": [
    "epsilon = 1e-10  # Small constant to avoid division by zero\n",
    "\n",
    "def mutual_information(imageA, imageB, imageF):\n",
    "    # Compute edge histograms\n",
    "    edge_hist_A = edge_histogram(imageA)\n",
    "    edge_hist_B = edge_histogram(imageB)\n",
    "    edge_hist_F = edge_histogram(imageF)\n",
    "    \n",
    "    # Resize images to have the same dimensions\n",
    "    imageA = cv2.resize(imageA, (imageF.shape[1], imageF.shape[0]))\n",
    "    imageB = cv2.resize(imageB, (imageF.shape[1], imageF.shape[0]))\n",
    "    \n",
    "    # Compute joint histograms\n",
    "    joint_hist_AF = joint_histogram(imageA, imageF)\n",
    "    joint_hist_BF = joint_histogram(imageB, imageF)\n",
    "    \n",
    "    # Compute mutual information terms\n",
    "    term_A_B = np.sum(joint_histogram(imageA, imageB) * np.log2(np.divide(joint_histogram(imageA, imageB) + epsilon, np.outer(edge_histogram(imageA) + epsilon, edge_histogram(imageB) + epsilon))))\n",
    "    term_A_F = np.sum(joint_hist_AF * np.log2(np.divide(joint_hist_AF + epsilon, np.outer(edge_hist_A + epsilon, edge_hist_F + epsilon))))\n",
    "    term_B_F = np.sum(joint_hist_BF * np.log2(np.divide(joint_hist_BF + epsilon, np.outer(edge_hist_B + epsilon, edge_hist_F + epsilon))))\n",
    "    \n",
    "    # Compute mutual information\n",
    "    MI_AB = term_A_B\n",
    "    MI_AF = term_A_F\n",
    "    MI_BF = term_B_F\n",
    "    \n",
    "    return MI_AB, MI_AF, MI_BF\n",
    "\n",
    "# Calculate mutual information\n",
    "MI_AB, MI_AF, MI_BF = mutual_information(imageA, imageB, imageF)\n",
    "print(\"Mutual Information (MI) between image A and image B:\", MI_AB)\n",
    "print(\"Mutual Information (MI) between image A and fused image F:\", MI_AF)\n",
    "print(\"Mutual Information (MI) between image B and fused image F:\", MI_BF)\n"
   ]
  },
  {
   "cell_type": "code",
   "execution_count": null,
   "metadata": {},
   "outputs": [],
   "source": []
  },
  {
   "cell_type": "markdown",
   "metadata": {},
   "source": [
    "Feature Mutual Information (FMI) "
   ]
  },
  {
   "cell_type": "code",
   "execution_count": 6,
   "metadata": {},
   "outputs": [
    {
     "name": "stdout",
     "output_type": "stream",
     "text": [
      "Feature Mutual Information (FMI): 118.2879446515945\n"
     ]
    },
    {
     "name": "stderr",
     "output_type": "stream",
     "text": [
      "/var/folders/1c/wgg3jchj1vnb_c49fv64srjm0000gn/T/ipykernel_17317/554599845.py:11: RuntimeWarning: Converting input from bool to <class 'numpy.uint8'> for compatibility.\n",
      "  hist, _ = np.histogram(edges, bins=256, range=(0, 1))\n"
     ]
    }
   ],
   "source": [
    "def feature_map(image):\n",
    "    # You can use any feature extraction method here\n",
    "    # For example, you can compute the histogram of oriented gradients (HOG)\n",
    "    # Here, let's use edge histogram as a simple feature map\n",
    "    return edge_histogram(image)\n",
    "\n",
    "def feature_mutual_information(imageA, imageB, imageF):\n",
    "    # Compute feature maps\n",
    "    feature_map_A = feature_map(imageA)\n",
    "    feature_map_B = feature_map(imageB)\n",
    "    feature_map_F = feature_map(imageF)\n",
    "    \n",
    "    # Compute Mutual Information (MI)\n",
    "    MI_AB, MI_AF, MI_BF = mutual_information(imageA, imageB, imageF)\n",
    "    \n",
    "    # Compute Feature Mutual Information (FMI)\n",
    "    FMI = MI_AB + MI_AF + MI_BF\n",
    "    \n",
    "    return FMI\n",
    "\n",
    "# Calculate Feature Mutual Information (FMI)\n",
    "FMI = feature_mutual_information(imageA, imageB, imageF)\n",
    "print(\"Feature Mutual Information (FMI):\", FMI)\n"
   ]
  },
  {
   "cell_type": "code",
   "execution_count": null,
   "metadata": {},
   "outputs": [],
   "source": []
  },
  {
   "cell_type": "markdown",
   "metadata": {},
   "source": [
    "Normalized Mutual Information (NMI)"
   ]
  },
  {
   "cell_type": "code",
   "execution_count": 7,
   "metadata": {},
   "outputs": [
    {
     "name": "stdout",
     "output_type": "stream",
     "text": [
      "Normalized Mutual Information (NMI): 22.33800349568718\n"
     ]
    },
    {
     "name": "stderr",
     "output_type": "stream",
     "text": [
      "/var/folders/1c/wgg3jchj1vnb_c49fv64srjm0000gn/T/ipykernel_17317/554599845.py:11: RuntimeWarning: Converting input from bool to <class 'numpy.uint8'> for compatibility.\n",
      "  hist, _ = np.histogram(edges, bins=256, range=(0, 1))\n"
     ]
    }
   ],
   "source": [
    "def entropy(image):\n",
    "    # Compute entropy of the image\n",
    "    hist, _ = np.histogram(image.ravel(), bins=256, range=(0, 255))\n",
    "    hist = hist / np.sum(hist)  # Normalize histogram\n",
    "    entropy = -np.sum(hist * np.log2(hist + 1e-10))  # Add epsilon to avoid log(0)\n",
    "    return entropy\n",
    "\n",
    "def normalized_mutual_information(imageA, imageB, imageF):\n",
    "    # Compute entropies\n",
    "    entropy_A = entropy(imageA)\n",
    "    entropy_B = entropy(imageB)\n",
    "    entropy_F = entropy(imageF)\n",
    "    \n",
    "    # Compute Mutual Information (MI)\n",
    "    MI_AB, MI_AF, MI_BF = mutual_information(imageA, imageB, imageF)\n",
    "    \n",
    "    # Compute Normalized Mutual Information (NMI)\n",
    "    NMI = 2 * ((MI_AB / (entropy_A + entropy_B)) + (MI_AF / (entropy_A + entropy_F)) + (MI_BF / (entropy_B + entropy_F)))\n",
    "    \n",
    "    return NMI\n",
    "\n",
    "# Calculate Normalized Mutual Information (NMI)\n",
    "NMI = normalized_mutual_information(imageA, imageB, imageF)\n",
    "print(\"Normalized Mutual Information (NMI):\", NMI)\n"
   ]
  },
  {
   "cell_type": "code",
   "execution_count": null,
   "metadata": {},
   "outputs": [],
   "source": []
  },
  {
   "cell_type": "markdown",
   "metadata": {},
   "source": []
  },
  {
   "cell_type": "code",
   "execution_count": 9,
   "metadata": {},
   "outputs": [
    {
     "name": "stdout",
     "output_type": "stream",
     "text": [
      "Mean Square Error (MSE): 90.11621966794381\n"
     ]
    }
   ],
   "source": [
    "def mean_square_error(imageA, imageB, imageF):\n",
    "    # Resize images to have the same dimensions\n",
    "    imageA = cv2.resize(imageA, (imageF.shape[1], imageF.shape[0]))\n",
    "    imageB = cv2.resize(imageB, (imageF.shape[1], imageF.shape[0]))\n",
    "    \n",
    "    # Compute Mean Square Error (MSE) between image A and fused image F\n",
    "    mse_AF = np.mean((imageA - imageF) ** 2)\n",
    "    \n",
    "    # Compute Mean Square Error (MSE) between image B and fused image F\n",
    "    mse_BF = np.mean((imageB - imageF) ** 2)\n",
    "    \n",
    "    # Compute the average of MSE values\n",
    "    mse = (mse_AF + mse_BF) / 2\n",
    "    \n",
    "    return mse\n",
    "\n",
    "# Calculate Mean Square Error (MSE)\n",
    "MSE = mean_square_error(imageA, imageB, imageF)\n",
    "print(\"Mean Square Error (MSE):\", MSE)\n"
   ]
  },
  {
   "cell_type": "markdown",
   "metadata": {},
   "source": []
  },
  {
   "cell_type": "markdown",
   "metadata": {},
   "source": [
    "Root Mean Square Error (RMSE)"
   ]
  },
  {
   "cell_type": "markdown",
   "metadata": {},
   "source": [
    "The Root Mean Square Error (RMSE) between the reference images and the fused image is approximately 9.49.\n",
    "\n",
    "This value represents the square root of the average squared difference between corresponding pixel values in the reference images (A and B) and the fused image (F). A lower RMSE value indicates a closer resemblance between the fused image and the source images, suggesting a better fusion effect.\n",
    "\n",
    "Just like Mean Square Error (MSE), the interpretation of RMSE values depends on the scale and characteristics of the images. Always consider other evaluation metrics alongside RMSE for a comprehensive assessment of fusion quality."
   ]
  },
  {
   "cell_type": "code",
   "execution_count": 12,
   "metadata": {},
   "outputs": [
    {
     "name": "stdout",
     "output_type": "stream",
     "text": [
      "Root Mean Square Error (RMSE): 9.492956318657734\n"
     ]
    }
   ],
   "source": [
    "def root_mean_square_error(imageA, imageB, imageF):\n",
    "    # Resize images to have the same dimensions\n",
    "    imageA = cv2.resize(imageA, (imageF.shape[1], imageF.shape[0]))\n",
    "    imageB = cv2.resize(imageB, (imageF.shape[1], imageF.shape[0]))\n",
    "    \n",
    "    # Compute Mean Square Error (MSE) between image A and fused image F\n",
    "    mse_AF = np.mean((imageA - imageF) ** 2)\n",
    "    \n",
    "    # Compute Mean Square Error (MSE) between image B and fused image F\n",
    "    mse_BF = np.mean((imageB - imageF) ** 2)\n",
    "    \n",
    "    # Compute the average of MSE values\n",
    "    mse = (mse_AF + mse_BF) / 2\n",
    "    \n",
    "    # Compute the Root Mean Square Error (RMSE)\n",
    "    rmse = np.sqrt(mse)\n",
    "    \n",
    "    return rmse\n",
    "\n",
    "# Calculate Root Mean Square Error (RMSE)\n",
    "RMSE = root_mean_square_error(imageA, imageB, imageF)\n",
    "print(\"Root Mean Square Error (RMSE):\", RMSE)\n"
   ]
  },
  {
   "cell_type": "code",
   "execution_count": null,
   "metadata": {},
   "outputs": [],
   "source": []
  }
 ],
 "metadata": {
  "kernelspec": {
   "display_name": "Python 3",
   "language": "python",
   "name": "python3"
  },
  "language_info": {
   "codemirror_mode": {
    "name": "ipython",
    "version": 3
   },
   "file_extension": ".py",
   "mimetype": "text/x-python",
   "name": "python",
   "nbconvert_exporter": "python",
   "pygments_lexer": "ipython3",
   "version": "3.9.6"
  }
 },
 "nbformat": 4,
 "nbformat_minor": 2
}
